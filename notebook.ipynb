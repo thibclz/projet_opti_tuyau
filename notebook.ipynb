{
 "cells": [
  {
   "cell_type": "markdown",
   "metadata": {},
   "source": [
    "### Question 1 : \n",
    "\n",
    "$$\n",
    "K \\left(x_N-\\frac{L}{2} \\right)^2+dx^2  \\sum_{i=0}^{N} y_i^2\n",
    "$$\n",
    "\n",
    "$ K(x_N-\\frac{L}{2})^2+dx^2 $ : Minimiser la distance entre le bout du tuyau et le parterre.\n",
    "\n",
    "$ dx^2\\sum_{i=0}^{N} y_i^2 $ : Minimiser l'encombrement du jardin en laissant le tuyau d'arrosage le plus proche possible du trajet en ligne droite entre le robinet et le pareterre"
   ]
  },
  {
   "cell_type": "markdown",
   "metadata": {},
   "source": [
    "### Question 2 :  \n",
    "Si on impose $ x_N = L/2 $ dès le début on devrait donner des conditions initiales vérifiant déjà cette condition. Ce qui n'est pas simple aux vues des autres conditions d'égalité."
   ]
  },
  {
   "cell_type": "markdown",
   "metadata": {},
   "source": [
    "### Question 3 : \n",
    "\n",
    "La courbure du tuyau au point $M$ appartenant à la courbe est donnée, par $ \\frac{d^2\\vec{M}}{dx^2} $ de norme au carré $ ||\\frac{d^2\\vec{M}}{dx^2}||^2 = \\left( \\frac{d^2x_M}{dx^2} \\right)^2 + \\left(\\frac{d^2y_M}{dx^2} \\right)^2 $ \n",
    "\n",
    "Si on se place maintenant au point $ (x_i, y_i) $ et qu'on se place dans le cas discret, donc on applique une méthode de différence finie on obtient :\n",
    "$ ||\\frac{d^2\\vec{M}}{dx^2}|_{(x_i, y_i)}||^2 \\approx (\\frac{x_{i+1}-2x_{i}+x_{i-1}}{dx^2})^2 + (\\frac{y_{i+1}-2y_{i}+y_{i-1}}{dx^2})^2 = \\frac{(x_{i+1}-2x_{i}+x_{i-1})^2}{dx^4} + \\frac{(y_{i+1}-2y_{i}+y_{i-1})^2}{dx^4}  $\n",
    "\n",
    "Si on veut limiter cette courbure de telle sorte que $ ||\\frac{d^2\\vec{M}}{dx^2}|_{(x_i, y_i)}|| \\le \\gamma, \\space \\forall i \\in [1,N] $ \n",
    "\n",
    "On trouve alors la condition :\n",
    "\n",
    "$(x_{i+1}-2x_{i}+x_{i-1})^2 + (y_{i+1}-2y_{i}+y_{i-1})^2 \\le dx^4 \\gamma ^2, \\space \\forall i \\in [1,N] $"
   ]
  },
  {
   "cell_type": "markdown",
   "metadata": {},
   "source": [
    "### Question 4 : \n",
    "\n",
    "On pose $ z = (x_0, ..., x_N, y_0, ..., y_N) \\in \\mathbb{R}^{2N+2} $ \n",
    "On a \n",
    "$$\n",
    "c_{eq}(z) = \\begin{pmatrix} \n",
    "x_0 \\\\ y_0 \\\\ y_N \\\\ (x_1-x_0)^2 + (y_1-y_0)^2 - dx^2 \\\\ \\vdots \\\\ (x_N-x_{N-1})^2 + (y_N-y_{N-1})^2 - dx^2 \n",
    "\\end{pmatrix} \\in \\mathbb{R}^{N+3}\n",
    "$$\n",
    "et\n",
    "$$\n",
    "c_{ineq}(z) = \\begin{pmatrix} \n",
    "-y_1 \\\\ x_0-x_1 \\\\ \\vdots \\\\ x_{N-1}-x_{N} \\\\ (x_{2}-2x_{1}+x_{0})^2 + (y_{2}-2y_{1}+y_{0})^2 - dx^4 \\gamma ^2 \\\\ \\vdots \\\\ (x_{N}-2x_{N-1}+x_{N-2})^2 + (y_{N}-2y_{N-1}+y_{N-2})^2 - dx^4 \\gamma ^2 \\end{pmatrix} \\in \\mathbb{R}^{2N}\n",
    "$$\n",
    "\n",
    "Ce qui représente au total N+3 condition d'égalité et 2N d'intégalité soit 3N+3 conditions.\n",
    "\n",
    "et enfin :\n",
    "$$\n",
    "f(z) = K \\left(x_N-\\frac{L}{2} \\right)^2+dx^2  \\sum_{i=0}^{N} y_i^2\n",
    "$$"
   ]
  },
  {
   "cell_type": "markdown",
   "metadata": {},
   "source": [
    "### Question 5\n",
    "\n"
   ]
  },
  {
   "cell_type": "markdown",
   "metadata": {},
   "source": [
    "### Question 6"
   ]
  },
  {
   "cell_type": "code",
   "execution_count": 1,
   "metadata": {},
   "outputs": [],
   "source": [
    "#imports\n",
    "import numpy as np\n",
    "import matplotlib.pyplot as plt\n",
    "from casadi import *"
   ]
  },
  {
   "cell_type": "code",
   "execution_count": 2,
   "metadata": {},
   "outputs": [],
   "source": [
    "def solve(N, K, L, gamma, z0) :\n",
    "    \n",
    "    dx = L/N\n",
    "    \n",
    "    opti = casadi.Opti()\n",
    "    z = opti.variable(2*N+2)\n",
    "    \n",
    "    #bulding f\n",
    "    S = 0\n",
    "    for i in range(N+1) :\n",
    "        S += z[N + 1 + i]**2\n",
    "\n",
    "    f = K*(z[N] - L/2)**2 + S * dx**2\n",
    "    opti.minimize(f)\n",
    "\n",
    "    #ceq\n",
    "    opti.subject_to(z[0] == 0)\n",
    "    opti.subject_to(z[N+1] == 0)\n",
    "    opti.subject_to(z[2*N+1] == 0)\n",
    "    opti.subject_to((z[1] - z[0])**2 + (z[N+2] - z[N+1])**2 - dx**2 == 0)\n",
    "    \n",
    "    #cineq\n",
    "    opti.subject_to( z[N+2] >= 0)\n",
    "    opti.subject_to( z[0] - z[1] <= 0)\n",
    "    \n",
    "    for i in range(1,N) :\n",
    "        \n",
    "        #ceq(bis)\n",
    "        opti.subject_to((z[i+1] - z[i])**2 + (z[N+2+i] - z[N+1+i])**2 - dx**2 == 0)\n",
    "        \n",
    "        #cineq(bis)\n",
    "        opti.subject_to( z[i] - z[i+1] <= 0)\n",
    "        opti.subject_to((z[i+1] - 2* z[i]+ z[i-1])**2 + (z[N+1 + i + 1] - 2* z[N+1 + i]+ z[N + 1])**2 - (dx**4)*(gamma**2) <= 0)\n",
    "    \n",
    "    #solving\n",
    "    opti.set_initial(z, z0)\n",
    "    opti.solver('ipopt')\n",
    "    sol = opti.solve()\n",
    "    return sol.value(z)\n",
    "    "
   ]
  },
  {
   "cell_type": "code",
   "execution_count": 6,
   "metadata": {},
   "outputs": [],
   "source": [
    "N = 60\n",
    "K = 10**5\n",
    "L = 10\n",
    "gamma = 1"
   ]
  },
  {
   "cell_type": "code",
   "execution_count": 7,
   "metadata": {},
   "outputs": [
    {
     "data": {
      "image/png": "[encoded data removed]",
      "text/plain": [
       "<Figure size 432x288 with 2 Axes>"
      ]
     },
     "metadata": {
      "needs_background": "light"
     },
     "output_type": "display_data"
    }
   ],
   "source": [
    "#setting z0 to isoceles triangles\n",
    "z0 = np.arange(2 * N + 2, dtype = 'float64')\n",
    "dx = L/N\n",
    "\n",
    "#setting x_i\n",
    "z0[:N+1] *= dx/np.sqrt(2)\n",
    "\n",
    "#setting y_i\n",
    "z0[N+1] = 0\n",
    "z0[N+2::2] = dx/np.sqrt(2)\n",
    "z0[N+3::2] = 0\n",
    "\n",
    "#visualizat\n",
    "fig = plt.figure()\n",
    "sub1 = fig.add_subplot(211)\n",
    "sub1.plot(z0[:N+1], z0[N+1:])\n",
    "sub1.title.set_text('situation initiale')\n",
    "sub1.axvline(x=L/np.sqrt(2), color = 'r')\n",
    "plt.figtext(.92, .8, r\"$ \\frac{L}{\\sqrt{2}} $\", color = 'r', size = 20)\n",
    "sub1.axhline(y=dx/np.sqrt(2), color = 'g')\n",
    "plt.figtext(.7, 1, r\"$ \\frac{dx}{\\sqrt{2}} $\", color = 'g', size = 20)\n",
    "sub1.axhline(y=0, color = 'g')\n",
    "plt.figtext(.91, .52, r\"$ 0 $\", color = 'g', size = 20)\n",
    "\n",
    "\n",
    "sub2 = fig.add_subplot(212)\n",
    "sub2.plot(z0[:N+1], z0[N+1:])\n",
    "plt.xlim(0,2)\n",
    "sub2.title.set_text('zoom sur le début')\n",
    "\n",
    "fig.tight_layout()"
   ]
  },
  {
   "cell_type": "code",
   "execution_count": 8,
   "metadata": {},
   "outputs": [
    {
     "name": "stdout",
     "output_type": "stream",
     "text": [
      "This is Ipopt version 3.12.3, running with linear solver mumps.\n",
      "NOTE: Other linear solvers might be more efficient (see Ipopt documentation).\n",
      "\n",
      "Number of nonzeros in equality constraint Jacobian...:      243\n",
      "Number of nonzeros in inequality constraint Jacobian.:      475\n",
      "Number of nonzeros in Lagrangian Hessian.............:      360\n",
      "\n",
      "Total number of variables............................:      122\n",
      "                     variables with only lower bounds:        0\n",
      "                variables with lower and upper bounds:        0\n",
      "                     variables with only upper bounds:        0\n",
      "Total number of equality constraints.................:       63\n",
      "Total number of inequality constraints...............:      120\n",
      "        inequality constraints with only lower bounds:        1\n",
      "   inequality constraints with lower and upper bounds:        0\n",
      "        inequality constraints with only upper bounds:      119\n",
      "\n",
      "iter    objective    inf_pr   inf_du lg(mu)  ||d||  lg(rg) alpha_du alpha_pr  ls\n",
      "   0 4.2893220e+005 5.48e-002 4.77e+001  -1.0 0.00e+000    -  0.00e+000 0.00e+000   0\n",
      "   1 4.2352136e+005 6.33e-002 4.78e+001  -1.0 5.00e-001   2.0 1.00e+000 2.62e-002f  1\n",
      "   2 3.4799966e+005 5.42e-002 5.64e+001  -1.0 1.38e+000    -  6.95e-001 1.47e-001f  1\n",
      "   3 4.6939375e+005 4.71e-002 4.20e+002  -1.0 2.21e+000    -  1.00e+000 1.36e-001h  1\n",
      "   4 3.0205480e+006 1.15e-002 7.86e+001  -1.0 3.33e+000    -  1.00e+000 1.00e+000h  1\n",
      "   5 2.4720572e+006 2.57e-003 2.54e+001  -1.0 5.24e-001    -  1.00e+000 1.00e+000f  1\n",
      "   6 2.4618120e+006 3.39e-004 4.09e+001  -1.0 1.27e-002    -  1.00e+000 1.00e+000f  1\n",
      "   7 2.4633245e+006 2.34e-005 2.26e+001  -1.0 4.90e-003    -  1.00e+000 1.00e+000h  1\n",
      "   8 2.4639116e+006 1.30e-006 1.92e+000  -1.0 9.15e-004    -  1.00e+000 1.00e+000h  1\n",
      "   9 2.4464294e+006 1.17e-004 9.52e+000  -1.7 1.98e-002    -  1.00e+000 8.89e-001f  1\n",
      "iter    objective    inf_pr   inf_du lg(mu)  ||d||  lg(rg) alpha_du alpha_pr  ls\n",
      "  10 2.4443676e+006 2.24e-006 9.48e-002  -1.7 2.08e-003    -  1.00e+000 1.00e+000f  1\n",
      "  11 2.4401781e+006 5.93e-007 6.04e-002  -2.5 4.24e-003    -  1.00e+000 1.00e+000f  1\n",
      "  12 2.4395210e+006 1.02e-008 1.09e-003  -3.8 6.65e-004    -  1.00e+000 1.00e+000f  1\n",
      "  13 2.4394846e+006 3.76e-011 4.08e-006  -5.7 3.68e-005    -  1.00e+000 1.00e+000f  1\n",
      "  14 2.4394841e+006 6.17e-015 7.13e-010  -8.6 4.56e-007    -  1.00e+000 1.00e+000h  1\n",
      "\n",
      "Number of Iterations....: 14\n",
      "\n",
      "                                   (scaled)                 (unscaled)\n",
      "Objective...............:  5.8894356925328157e+002   2.4394841385712731e+006\n",
      "Dual infeasibility......:  7.1343819740832259e-010   2.9551577728154062e-006\n",
      "Constraint violation....:  6.1721461275254796e-015   6.1721461275254796e-015\n",
      "Complementarity.........:  2.5150385648362209e-009   1.0417630834465271e-005\n",
      "Overall NLP error.......:  1.5988802895026719e-009   1.0417630834465271e-005\n",
      "\n",
      "\n",
      "Number of objective function evaluations             = 15\n",
      "Number of objective gradient evaluations             = 15\n",
      "Number of equality constraint evaluations            = 15\n",
      "Number of inequality constraint evaluations          = 15\n",
      "Number of equality constraint Jacobian evaluations   = 15\n",
      "Number of inequality constraint Jacobian evaluations = 15\n",
      "Number of Lagrangian Hessian evaluations             = 14\n",
      "Total CPU secs in IPOPT (w/o function evaluations)   =      0.040\n",
      "Total CPU secs in NLP function evaluations           =      0.006\n",
      "\n",
      "EXIT: Optimal Solution Found.\n",
      "      solver  :   t_proc      (avg)   t_wall      (avg)    n_eval\n",
      "       nlp_f  |        0 (       0)        0 (       0)        15\n",
      "       nlp_g  |        0 (       0)        0 (       0)        15\n",
      "  nlp_grad_f  |        0 (       0)        0 (       0)        16\n",
      "  nlp_hess_l  |   2.00ms (142.86us)   2.00ms (143.14us)        14\n",
      "   nlp_jac_g  |   4.00ms (250.00us)   3.98ms (248.81us)        16\n",
      "       total  |  47.00ms ( 47.00ms)  46.41ms ( 46.41ms)         1\n"
     ]
    },
    {
     "data": {
      "text/plain": [
       "(1.0, 2.0)"
      ]
     },
     "execution_count": 8,
     "metadata": {},
     "output_type": "execute_result"
    },
    {
     "data": {
      "image/png": "[encoded data removed]",
      "text/plain": [
       "<Figure size 432x288 with 1 Axes>"
      ]
     },
     "metadata": {
      "needs_background": "light"
     },
     "output_type": "display_data"
    }
   ],
   "source": [
    "sol = solve(N, K, L, gamma, z0)\n",
    "plt.plot(sol[:N+1], sol[N+1 : ])\n",
    "plt.xlim(1,2)"
   ]
  },
  {
   "cell_type": "code",
   "execution_count": 9,
   "metadata": {},
   "outputs": [
    {
     "data": {
      "text/plain": [
       "array([-1.15893987e-35,  1.66409563e-01,  3.32044818e-01,  4.97679470e-01,\n",
       "        6.63314121e-01,  8.28948773e-01,  9.94583424e-01,  1.16021808e+00,\n",
       "        1.32585273e+00,  1.49148738e+00,  1.65712203e+00,  1.82275668e+00,\n",
       "        1.98839133e+00,  2.15402599e+00,  2.31966064e+00,  2.48529529e+00,\n",
       "        2.65092994e+00,  2.81656459e+00,  2.98219924e+00,  3.14783390e+00,\n",
       "        3.31346855e+00,  3.47910320e+00,  3.64473785e+00,  3.81037250e+00,\n",
       "        3.97600715e+00,  4.14164180e+00,  4.30727646e+00,  4.47291111e+00,\n",
       "        4.63854576e+00,  4.80418041e+00,  4.96981506e+00,  5.13544971e+00,\n",
       "        5.30108437e+00,  5.46671902e+00,  5.63235367e+00,  5.79798832e+00,\n",
       "        5.96362297e+00,  6.12925762e+00,  6.29489228e+00,  6.46052693e+00,\n",
       "        6.62616158e+00,  6.79179623e+00,  6.95743088e+00,  7.12306553e+00,\n",
       "        7.28870019e+00,  7.45433483e+00,  7.61996951e+00,  7.78560410e+00,\n",
       "        7.95123888e+00,  8.11687327e+00,  8.28250843e+00,  8.44814207e+00,\n",
       "        8.61377874e+00,  8.77940935e+00,  8.94505207e+00,  9.11067049e+00,\n",
       "        9.27633722e+00,  9.44190620e+00,  9.60766615e+00,  9.77302608e+00,\n",
       "        9.93911342e+00,  0.00000000e+00,  9.25392223e-03, -9.25931920e-03,\n",
       "        9.25931921e-03, -9.25931921e-03,  9.25931921e-03, -9.25931921e-03,\n",
       "        9.25931921e-03, -9.25931921e-03,  9.25931921e-03, -9.25931921e-03,\n",
       "        9.25931921e-03, -9.25931921e-03,  9.25931921e-03, -9.25931921e-03,\n",
       "        9.25931921e-03, -9.25931921e-03,  9.25931921e-03, -9.25931921e-03,\n",
       "        9.25931921e-03, -9.25931921e-03,  9.25931921e-03, -9.25931921e-03,\n",
       "        9.25931921e-03, -9.25931921e-03,  9.25931921e-03, -9.25931921e-03,\n",
       "        9.25931921e-03, -9.25931921e-03,  9.25931922e-03, -9.25931920e-03,\n",
       "        9.25931923e-03, -9.25931918e-03,  9.25931928e-03, -9.25931907e-03,\n",
       "        9.25931949e-03, -9.25931866e-03,  9.25932032e-03, -9.25931701e-03,\n",
       "        9.25932362e-03, -9.25931039e-03,  9.25933686e-03, -9.25928391e-03,\n",
       "        9.25938981e-03, -9.25917801e-03,  9.25960162e-03, -9.25875440e-03,\n",
       "        9.26044883e-03, -9.25705997e-03,  9.26383770e-03, -9.25028223e-03,\n",
       "        9.27739313e-03, -9.22317121e-03,  9.33161455e-03, -9.11472590e-03,\n",
       "        9.54849521e-03, -8.68092520e-03,  1.04159352e-02, -6.94543070e-03,\n",
       "        1.38842157e-02,  1.29600462e-37])"
      ]
     },
     "execution_count": 9,
     "metadata": {},
     "output_type": "execute_result"
    }
   ],
   "source": [
    "sol"
   ]
  },
  {
   "cell_type": "code",
   "execution_count": null,
   "metadata": {},
   "outputs": [],
   "source": []
  }
 ],
 "metadata": {
  "kernelspec": {
   "display_name": "Python 3",
   "language": "python",
   "name": "python3"
  },
  "language_info": {
   "codemirror_mode": {
    "name": "ipython",
    "version": 3
   },
   "file_extension": ".py",
   "mimetype": "text/x-python",
   "name": "python",
   "nbconvert_exporter": "python",
   "pygments_lexer": "ipython3",
   "version": "3.8.3"
  }
 },
 "nbformat": 4,
 "nbformat_minor": 4
}
